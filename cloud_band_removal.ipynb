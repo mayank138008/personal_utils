{
 "cells": [
  {
   "cell_type": "code",
   "execution_count": 1,
   "id": "28b3b087",
   "metadata": {},
   "outputs": [],
   "source": [
    "import rasterio\n",
    "from rasterio.enums import Compression\n",
    "from rasterio.shutil import copy as rio_copy\n",
    "\n",
    "src_path = r\"E:\\smart_agri\\temporal\\temporal_test_2\\cruz\\merged\\merged_S2A_MSIL2A_20240108T020441_N0510_R017_T50JPL_20240108T044150.SAFE.tif\"\n",
    "dst_path = r\"E:\\smart_agri\\temporal\\temporal_test_2\\cruz\\merged\\merged_S2A_MSIL2A_20240108T020441_N0510_R017_T50JPL_20240108T044150_noB13.tif\"\n",
    "b13_path = r\"E:\\smart_agri\\temporal\\temporal_test_2\\cruz\\merged\\merged_S2A_MSIL2A_20240108T020441_N0510_R017_T50JPL_20240108T044150_B13.tif\"\n",
    "\n",
    "with rasterio.open(src_path) as src:\n",
    "    profile = src.profile.copy()\n",
    "    # Write bands 1–12\n",
    "    profile.update(count=12, compress='DEFLATE', tiled=True, BIGTIFF='IF_SAFER')\n",
    "\n",
    "    with rasterio.open(dst_path, 'w', **profile) as dst:\n",
    "        for i in range(1, 13):\n",
    "            dst.write(src.read(i), i)\n",
    "\n",
    "    # (optional) write only band 13\n",
    "    b13_profile = src.profile.copy()\n",
    "    b13_profile.update(count=1, compress='DEFLATE', tiled=True, BIGTIFF='IF_SAFER')\n",
    "    with rasterio.open(b13_path, 'w', **b13_profile) as out13:\n",
    "        out13.write(src.read(13), 1)\n"
   ]
  },
  {
   "cell_type": "code",
   "execution_count": null,
   "id": "6dda5298",
   "metadata": {},
   "outputs": [],
   "source": []
  }
 ],
 "metadata": {
  "kernelspec": {
   "display_name": "lcc_5_cloned",
   "language": "python",
   "name": "python3"
  },
  "language_info": {
   "codemirror_mode": {
    "name": "ipython",
    "version": 3
   },
   "file_extension": ".py",
   "mimetype": "text/x-python",
   "name": "python",
   "nbconvert_exporter": "python",
   "pygments_lexer": "ipython3",
   "version": "3.10.10"
  }
 },
 "nbformat": 4,
 "nbformat_minor": 5
}
